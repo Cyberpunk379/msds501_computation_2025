{
 "cells": [
  {
   "cell_type": "code",
   "execution_count": null,
   "id": "6157542d",
   "metadata": {},
   "outputs": [],
   "source": [
    "def two_pointer(s):\n",
    "    left, right = 0, len(s) - 1\n",
    "    while left < right:\n",
    "        # The following two lines should be updated\n",
    "        # with a new conditional statements.\n",
    "        if s[left] != s[right]: \n",
    "            return False\n",
    "        left += 1\n",
    "        right -= 1"
   ]
  },
  {
   "cell_type": "code",
   "execution_count": 3,
   "id": "9a162496",
   "metadata": {},
   "outputs": [],
   "source": [
    "def two_pointer(s):\n",
    "    left, right = (0, len(s)-1)\n",
    "    while(left > right):\n",
    "        if left[s] != right[s]:\n",
    "            return  False\n",
    "        left, right (+1, -1)"
   ]
  },
  {
   "cell_type": "code",
   "execution_count": null,
   "id": "46099b91",
   "metadata": {},
   "outputs": [],
   "source": []
  }
 ],
 "metadata": {
  "kernelspec": {
   "display_name": "streamlit-env",
   "language": "python",
   "name": "python3"
  },
  "language_info": {
   "codemirror_mode": {
    "name": "ipython",
    "version": 3
   },
   "file_extension": ".py",
   "mimetype": "text/x-python",
   "name": "python",
   "nbconvert_exporter": "python",
   "pygments_lexer": "ipython3",
   "version": "3.10.18"
  }
 },
 "nbformat": 4,
 "nbformat_minor": 5
}
