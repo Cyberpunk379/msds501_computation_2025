{
 "cells": [
  {
   "cell_type": "code",
   "execution_count": null,
   "id": "d0a6c956",
   "metadata": {},
   "outputs": [],
   "source": [
    "def twoSum(numbers, target):\n",
    "       left, right = 0, len(numbers)-1\n",
    "       while (left < right): \n",
    "        if target-numbers[left] == numbers[right]:\n",
    "            return [left+1, right+1]\n",
    "        elif target < numbers[left] + numbers[right]:\n",
    "            right -= 1\n",
    "        else:\n",
    "            left += 1\n",
    "\n",
    "       else:\n",
    "        return [-1. -1]"
   ]
  },
  {
   "cell_type": "code",
   "execution_count": null,
   "id": "79b770cc",
   "metadata": {},
   "outputs": [
    {
     "data": {
      "text/plain": [
       "[2, 5]"
      ]
     },
     "execution_count": 3,
     "metadata": {},
     "output_type": "execute_result"
    }
   ],
   "source": [
    "numbers = [1, 2, 4, 5, 7]\n",
    "target = 9\n",
    "twoSum(numbers, target) # returns [2, 5]"
   ]
  },
  {
   "cell_type": "code",
   "execution_count": 1,
   "id": "7c5bbe3e",
   "metadata": {},
   "outputs": [],
   "source": [
    "def twosum(numbers, target):\n",
    "    left = 0\n",
    "    right = len(numbers) - 1\n",
    "\n",
    "    while(left < right):\n",
    "        if left[numbers] + right[numbers] == target:\n",
    "            return (left, right)\n",
    "        elif target < left[numbers] + right[numbers]:\n",
    "            return (left+1, right+1)\n",
    "        else:\n",
    "            left +=1\n",
    "            right +=1\n",
    "\n",
    "    return left\n",
    "\n",
    "\n"
   ]
  },
  {
   "cell_type": "code",
   "execution_count": null,
   "id": "6b654f67",
   "metadata": {},
   "outputs": [],
   "source": [
    "def twosum(numbers, target):\n",
    "    left = 0\n",
    "    right = len(numbers) - 1\n",
    "\n",
    "    while left < right:\n",
    "        if left[numbers] + right[numbers] == target:\n",
    "            return left, right\n",
    "        else:\n",
    "            left + 1\n",
    "            right - 1\n",
    "        return left"
   ]
  }
 ],
 "metadata": {
  "kernelspec": {
   "display_name": "base",
   "language": "python",
   "name": "python3"
  },
  "language_info": {
   "codemirror_mode": {
    "name": "ipython",
    "version": 3
   },
   "file_extension": ".py",
   "mimetype": "text/x-python",
   "name": "python",
   "nbconvert_exporter": "python",
   "pygments_lexer": "ipython3",
   "version": "3.9.12"
  }
 },
 "nbformat": 4,
 "nbformat_minor": 5
}
