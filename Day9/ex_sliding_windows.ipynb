{
 "cells": [
  {
   "cell_type": "code",
   "execution_count": null,
   "id": "19e5886f",
   "metadata": {},
   "outputs": [],
   "source": [
    "def sliding_window(arr, k): # k : max subarray size\n",
    "    n = len(arr)\n",
    "    for i in range(n - k):\n",
    "        # Consider values in array on i to i + k\n",
    "        # Perform computation"
   ]
  },
  {
   "cell_type": "code",
   "execution_count": 5,
   "id": "6f63e934",
   "metadata": {},
   "outputs": [
    {
     "data": {
      "text/plain": [
       "4"
      ]
     },
     "execution_count": 5,
     "metadata": {},
     "output_type": "execute_result"
    }
   ],
   "source": [
    "sliding_window([1,2,3,4])"
   ]
  },
  {
   "cell_type": "code",
   "execution_count": 1,
   "id": "d8f4aa6d",
   "metadata": {},
   "outputs": [
    {
     "ename": "IndentationError",
     "evalue": "expected an indented block (3753162174.py, line 3)",
     "output_type": "error",
     "traceback": [
      "\u001b[0;36m  File \u001b[0;32m\"/var/folders/zh/n835cjwn06s8mgkq7j7c8hj80000gn/T/ipykernel_83641/3753162174.py\"\u001b[0;36m, line \u001b[0;32m3\u001b[0m\n\u001b[0;31m    for i in range(n - k):\u001b[0m\n\u001b[0m                          ^\u001b[0m\n\u001b[0;31mIndentationError\u001b[0m\u001b[0;31m:\u001b[0m expected an indented block\n"
     ]
    }
   ],
   "source": [
    "def slideing_window(arr, k):\n",
    "    n = len(arr)\n",
    "    for i in range(n - k):"
   ]
  }
 ],
 "metadata": {
  "kernelspec": {
   "display_name": "base",
   "language": "python",
   "name": "python3"
  },
  "language_info": {
   "codemirror_mode": {
    "name": "ipython",
    "version": 3
   },
   "file_extension": ".py",
   "mimetype": "text/x-python",
   "name": "python",
   "nbconvert_exporter": "python",
   "pygments_lexer": "ipython3",
   "version": "3.9.12"
  }
 },
 "nbformat": 4,
 "nbformat_minor": 5
}
