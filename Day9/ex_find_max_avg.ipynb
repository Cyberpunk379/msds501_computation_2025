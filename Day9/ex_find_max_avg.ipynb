{
 "cells": [
  {
   "cell_type": "markdown",
   "id": "c1c8dc70",
   "metadata": {},
   "source": [
    "You are given an integer array `nums` consisting of n elements, and an integer `k`.\n",
    "\n",
    "Find a contiguous subarray whose length is equal to `k` that has the maximum average value and return this value. \n",
    "\n",
    "Any answer with a calculation error less than `10^-5` will be accepted.\n",
    "\n"
   ]
  },
  {
   "cell_type": "code",
   "execution_count": 2,
   "id": "ca47837c",
   "metadata": {},
   "outputs": [],
   "source": [
    "def findMaxAverage(nums: list, k: int) -> float:\n",
    "        curr_sum=sum(nums[:k])\n",
    "        max_sum = curr_sum\n",
    "        for idx in range(k, len(nums)):\n",
    "            curr_sum = curr_sum + nums[idx] - nums[idx - k]\n",
    "            if(curr_sum > max_sum):\n",
    "                max_sum = curr_sum        \n",
    "        return max_sum/float(k)"
   ]
  },
  {
   "cell_type": "code",
   "execution_count": null,
   "id": "3c58c1f5",
   "metadata": {},
   "outputs": [
    {
     "data": {
      "text/plain": [
       "12.75"
      ]
     },
     "execution_count": 4,
     "metadata": {},
     "output_type": "execute_result"
    }
   ],
   "source": [
    "nums = [1,12,-5,-6,50,3]\n",
    "k = 4  \n",
    "findMaxAverage(nums, k) # 12.75"
   ]
  },
  {
   "cell_type": "code",
   "execution_count": null,
   "id": "7e2acc48",
   "metadata": {},
   "outputs": [],
   "source": [
    "def findmaxavg(nums: list, k: int) -> float:\n",
    "    curr_sum = sum(nums[:k])\n",
    "    max_sum = curr_sum\n",
    "    for i in range(len(nums)):\n",
    "        curr_sum = curr_sum + nums[i] - nums[i - k]\n",
    "        if (curr_sum > max_sum):\n",
    "            max_sum = curr_sum\n",
    "    return max_sum/float(k)"
   ]
  },
  {
   "cell_type": "code",
   "execution_count": 2,
   "id": "6c8e2c5e",
   "metadata": {},
   "outputs": [],
   "source": [
    "def findmaxavg(nums: list, k: int) -> float:\n",
    "    curr_sum = sum(nums[:k])\n",
    "    max_sum = curr_sum\n",
    "    for i in range(k, len(nums)):\n",
    "        curr_sum = curr_sum + nums[i] - nums[i - k]\n",
    "        if curr_sum > max_sum:\n",
    "            max_sum = curr_sum\n",
    "    return max_sum/float(k)"
   ]
  }
 ],
 "metadata": {
  "kernelspec": {
   "display_name": "base",
   "language": "python",
   "name": "python3"
  },
  "language_info": {
   "codemirror_mode": {
    "name": "ipython",
    "version": 3
   },
   "file_extension": ".py",
   "mimetype": "text/x-python",
   "name": "python",
   "nbconvert_exporter": "python",
   "pygments_lexer": "ipython3",
   "version": "3.9.12"
  }
 },
 "nbformat": 4,
 "nbformat_minor": 5
}
