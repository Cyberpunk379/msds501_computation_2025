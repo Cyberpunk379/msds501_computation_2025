{
 "cells": [
  {
   "cell_type": "markdown",
   "id": "5dc19910",
   "metadata": {},
   "source": [
    "For the given \"classes\"\n",
    "\n",
    "<ol>\n",
    "<li> print the list of (class_id, instructor) </li>\n",
    "<li> print the list including unique classrooms in ascending order </li>\n",
    "</ol>\n",
    "\n",
    "<b>Example</b>\n",
    "```\n",
    "[('msds501', 'Diane Woodbridge'), ('msds502', 'Robert Clements')]\n",
    "[144, 145, 146, 527, 529]\n",
    "```"
   ]
  },
  {
   "cell_type": "code",
   "execution_count": null,
   "id": "fa7afffc",
   "metadata": {},
   "outputs": [],
   "source": [
    "classes = {\"msds501\":{\"instructor\":\"Diane Woodbridge\", \"classroom\": [144, 145, 146, 527]},\n",
    "        \"msds502\":{\"instructor\":\"Robert Clements\", \"classroom\": [527, 529]}}"
   ]
  },
  {
   "cell_type": "code",
   "execution_count": null,
   "id": "87821c73",
   "metadata": {},
   "outputs": [],
   "source": [
    "dic = []\n",
    "for item in classes:\n",
    "    print\n"
   ]
  }
 ],
 "metadata": {
  "kernelspec": {
   "display_name": "base",
   "language": "python",
   "name": "python3"
  },
  "language_info": {
   "codemirror_mode": {
    "name": "ipython",
    "version": 3
   },
   "file_extension": ".py",
   "mimetype": "text/x-python",
   "name": "python",
   "nbconvert_exporter": "python",
   "pygments_lexer": "ipython3",
   "version": "3.13.5"
  }
 },
 "nbformat": 4,
 "nbformat_minor": 5
}
