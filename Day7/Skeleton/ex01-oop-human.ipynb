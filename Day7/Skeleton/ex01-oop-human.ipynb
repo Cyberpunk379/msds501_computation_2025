{
 "cells": [
  {
   "attachments": {},
   "cell_type": "markdown",
   "id": "eec4ac49",
   "metadata": {},
   "source": [
    "### Define a class for human and its object"
   ]
  },
  {
   "cell_type": "code",
   "execution_count": 4,
   "id": "cd395c2b-04df-4e61-bbbd-c4f535dc98cd",
   "metadata": {},
   "outputs": [
    {
     "ename": "SyntaxError",
     "evalue": "incomplete input (2307907230.py, line 3)",
     "output_type": "error",
     "traceback": [
      "\u001b[0;36m  Cell \u001b[0;32mIn[4], line 3\u001b[0;36m\u001b[0m\n\u001b[0;31m    \u001b[0m\n\u001b[0m    ^\u001b[0m\n\u001b[0;31mSyntaxError\u001b[0m\u001b[0;31m:\u001b[0m incomplete input\n"
     ]
    }
   ],
   "source": [
    "class Human():\n",
    "    def __init__(self, first_val, last_val):\n",
    "      "
   ]
  },
  {
   "cell_type": "code",
   "execution_count": 5,
   "id": "84c2aaa8-d418-4d56-bd74-eeb4af6ba42d",
   "metadata": {},
   "outputs": [
    {
     "ename": "NameError",
     "evalue": "name 'Human' is not defined",
     "output_type": "error",
     "traceback": [
      "\u001b[0;31m---------------------------------------------------------------------------\u001b[0m",
      "\u001b[0;31mNameError\u001b[0m                                 Traceback (most recent call last)",
      "Cell \u001b[0;32mIn[5], line 1\u001b[0m\n\u001b[0;32m----> 1\u001b[0m curry \u001b[38;5;241m=\u001b[39m \u001b[43mHuman\u001b[49m(\u001b[38;5;124m\"\u001b[39m\u001b[38;5;124mStephen\u001b[39m\u001b[38;5;124m\"\u001b[39m, \u001b[38;5;124m\"\u001b[39m\u001b[38;5;124mCurry\u001b[39m\u001b[38;5;124m\"\u001b[39m)\n",
      "\u001b[0;31mNameError\u001b[0m: name 'Human' is not defined"
     ]
    }
   ],
   "source": [
    "curry = Human(\"Stephen\", \"Curry\")"
   ]
  },
  {
   "cell_type": "markdown",
   "id": "f6857227-2b20-452c-890b-5bf6b027fb60",
   "metadata": {},
   "source": [
    "## Let's extend the Class to have introduce() and has_hobby() methods"
   ]
  },
  {
   "cell_type": "code",
   "execution_count": 7,
   "id": "65dcd06f-de77-4f9e-bfd5-10d36f02f57a",
   "metadata": {},
   "outputs": [],
   "source": [
    "class Human():\n",
    "    def __init__(self, first_val, last_val):\n",
    "        self.firstname = first_val\n",
    "        self.lastname = last_val\n",
    "        \n",
    "    def introduce(self):\n",
    "        print(f'My name is {self.firstname} {self.lastname }.')"
   ]
  },
  {
   "cell_type": "code",
   "execution_count": 9,
   "id": "0dcd17fa-c1d2-48db-a681-4abb0f1d4ec6",
   "metadata": {},
   "outputs": [],
   "source": [
    "curry = Human(\"Stephen\", \"Curry\")"
   ]
  },
  {
   "cell_type": "code",
   "execution_count": 10,
   "id": "ae16abb0-7798-4e12-89f9-6bcca3cbe38d",
   "metadata": {},
   "outputs": [
    {
     "ename": "AttributeError",
     "evalue": "'Human' object has no attribute 'has_hobby'",
     "output_type": "error",
     "traceback": [
      "\u001b[0;31m---------------------------------------------------------------------------\u001b[0m",
      "\u001b[0;31mAttributeError\u001b[0m                            Traceback (most recent call last)",
      "Cell \u001b[0;32mIn[10], line 1\u001b[0m\n\u001b[0;32m----> 1\u001b[0m \u001b[43mcurry\u001b[49m\u001b[38;5;241;43m.\u001b[39;49m\u001b[43mhas_hobby\u001b[49m(\u001b[38;5;124m\"\u001b[39m\u001b[38;5;124mgolf\u001b[39m\u001b[38;5;124m\"\u001b[39m)\n",
      "\u001b[0;31mAttributeError\u001b[0m: 'Human' object has no attribute 'has_hobby'"
     ]
    }
   ],
   "source": [
    "curry.has_hobby(\"golf\")"
   ]
  },
  {
   "cell_type": "code",
   "execution_count": 11,
   "id": "1ee0dbc6-957e-4f8e-a8bd-3a8c9bee0f4d",
   "metadata": {},
   "outputs": [
    {
     "ename": "AttributeError",
     "evalue": "'Human' object has no attribute 'hobby'",
     "output_type": "error",
     "traceback": [
      "\u001b[0;31m---------------------------------------------------------------------------\u001b[0m",
      "\u001b[0;31mAttributeError\u001b[0m                            Traceback (most recent call last)",
      "Cell \u001b[0;32mIn[11], line 1\u001b[0m\n\u001b[0;32m----> 1\u001b[0m \u001b[43mcurry\u001b[49m\u001b[38;5;241;43m.\u001b[39;49m\u001b[43mhobby\u001b[49m\n",
      "\u001b[0;31mAttributeError\u001b[0m: 'Human' object has no attribute 'hobby'"
     ]
    }
   ],
   "source": [
    "curry.hobby"
   ]
  },
  {
   "cell_type": "code",
   "execution_count": 12,
   "id": "220ba8b2-1c5e-4685-a355-00697d0b586d",
   "metadata": {},
   "outputs": [
    {
     "data": {
      "text/plain": [
       "{'firstname': 'Stephen', 'lastname': 'Curry'}"
      ]
     },
     "execution_count": 12,
     "metadata": {},
     "output_type": "execute_result"
    }
   ],
   "source": [
    "curry.__dict__"
   ]
  },
  {
   "cell_type": "code",
   "execution_count": 15,
   "id": "d9a7b2f6-1381-45a5-9658-03bd2019e4c8",
   "metadata": {},
   "outputs": [
    {
     "name": "stdout",
     "output_type": "stream",
     "text": [
      "My name is Stephen Curry.\n"
     ]
    }
   ],
   "source": [
    "curry.introduce()"
   ]
  },
  {
   "cell_type": "code",
   "execution_count": null,
   "id": "0499f616",
   "metadata": {},
   "outputs": [],
   "source": []
  }
 ],
 "metadata": {
  "kernelspec": {
   "display_name": "streamlit-env",
   "language": "python",
   "name": "python3"
  },
  "language_info": {
   "codemirror_mode": {
    "name": "ipython",
    "version": 3
   },
   "file_extension": ".py",
   "mimetype": "text/x-python",
   "name": "python",
   "nbconvert_exporter": "python",
   "pygments_lexer": "ipython3",
   "version": "3.10.18"
  }
 },
 "nbformat": 4,
 "nbformat_minor": 5
}
