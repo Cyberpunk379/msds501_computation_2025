{
 "cells": [
  {
   "attachments": {},
   "cell_type": "markdown",
   "id": "2f6b07dd",
   "metadata": {},
   "source": [
    "Class Power requires 2 seconds for initializing an object.\n",
    "- Let's create a function that takes nums (integers between 0 and 9) and val, creates a Power object and apply the applyPower method using 1) generator and 2) iterator.\n",
    "- Which one was faster?"
   ]
  },
  {
   "cell_type": "code",
   "execution_count": null,
   "id": "be434a04-eb01-4126-9a1c-0c7a67493498",
   "metadata": {},
   "outputs": [],
   "source": [
    "import time"
   ]
  },
  {
   "cell_type": "code",
   "execution_count": 2,
   "id": "1e3ed3ca-1765-43f0-9137-c80fa3d294ed",
   "metadata": {},
   "outputs": [],
   "source": [
    "class Power:\n",
    "    def __init__(self, p):\n",
    "        \"\"\"\n",
    "        initialization takes 2 second\n",
    "        \"\"\"\n",
    "        self.p = p\n",
    "        time.sleep(2)\n",
    "    \n",
    "    def apply_power(self, x):\n",
    "        return x**self.p"
   ]
  },
  {
   "cell_type": "code",
   "execution_count": 9,
   "id": "7990b8b9-5330-4f96-ab91-34e8354a5213",
   "metadata": {},
   "outputs": [],
   "source": [
    "nums = range(10) "
   ]
  },
  {
   "cell_type": "code",
   "execution_count": 14,
   "id": "1254842b-1fb6-4323-a831-74fb6ffa7df7",
   "metadata": {},
   "outputs": [],
   "source": [
    "def generator_example(nums, val):\n",
    "    p = Power(val)\n",
    "    for num in nums:\n",
    "        yield p.apply_power(num)\n"
   ]
  },
  {
   "cell_type": "code",
   "execution_count": 15,
   "id": "3f072afc-fa3c-433b-a985-43738de351c2",
   "metadata": {},
   "outputs": [
    {
     "name": "stdout",
     "output_type": "stream",
     "text": [
      "CPU times: user 23 µs, sys: 1 µs, total: 24 µs\n",
      "Wall time: 28.1 µs\n"
     ]
    },
    {
     "data": {
      "text/plain": [
       "<generator object generator_example at 0x10ffbbf40>"
      ]
     },
     "execution_count": 15,
     "metadata": {},
     "output_type": "execute_result"
    }
   ],
   "source": [
    "%%time\n",
    "it = generator_example(nums, 2)\n",
    "it"
   ]
  },
  {
   "cell_type": "code",
   "execution_count": 12,
   "id": "02ee3b2d",
   "metadata": {},
   "outputs": [],
   "source": [
    "class PowerIterator:\n",
    "    def __init__(self, nums, val):\n",
    "        self.nums = iter(nums)\n",
    "        self.power = Power()\n",
    "\n",
    "    def __iter__(self):\n",
    "        return self\n",
    "    \n",
    "    def __next__(self):\n",
    "        return self.power.apply_power(next(self.nums))"
   ]
  },
  {
   "cell_type": "code",
   "execution_count": 13,
   "id": "161dc50f-b6d6-4dc5-bcb2-64a07787fc11",
   "metadata": {},
   "outputs": [],
   "source": [
    "def iterator_example(num, val):\n",
    " return PowerIterator(nums, val)"
   ]
  },
  {
   "cell_type": "code",
   "execution_count": null,
   "id": "9dc67ed1-751d-47ac-bb28-82f3088cce1f",
   "metadata": {},
   "outputs": [],
   "source": [
    "%%time\n"
   ]
  },
  {
   "cell_type": "code",
   "execution_count": null,
   "id": "849c78de-bb84-429e-90ce-dcf1ca2a4f62",
   "metadata": {},
   "outputs": [],
   "source": []
  }
 ],
 "metadata": {
  "kernelspec": {
   "display_name": "streamlit-env",
   "language": "python",
   "name": "python3"
  },
  "language_info": {
   "codemirror_mode": {
    "name": "ipython",
    "version": 3
   },
   "file_extension": ".py",
   "mimetype": "text/x-python",
   "name": "python",
   "nbconvert_exporter": "python",
   "pygments_lexer": "ipython3",
   "version": "3.10.18"
  }
 },
 "nbformat": 4,
 "nbformat_minor": 5
}
