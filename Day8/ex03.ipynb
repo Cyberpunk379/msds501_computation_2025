{
 "cells": [
  {
   "cell_type": "code",
   "execution_count": 1,
   "metadata": {},
   "outputs": [],
   "source": [
    "import pickle\n",
    "import csv"
   ]
  },
  {
   "cell_type": "markdown",
   "metadata": {},
   "source": [
    "Create \n",
    "- convert_pickle_to_csv() which creates a csv file in output_path, by converting the pickle file in input_path.\n",
    "- filter_csv_and_save() which loads the csv file in input_path and filter data on index, and writes its unique set as a pickle file on output_path."
   ]
  },
  {
   "cell_type": "code",
   "execution_count": 2,
   "metadata": {},
   "outputs": [],
   "source": [
    "def convert_pickle_to_csv(input_path, output_path):\n",
    "    \"\"\"\n",
    "    Create a csv file in output_path, by converting\n",
    "    the pickle file in input_path.\n",
    "    \"\"\"\n",
    "    with open(input_path, 'rb') as input:\n",
    "        data = pickle.load(input)\n",
    "        with open(output_path, 'w') as output:\n",
    "            csv_file = csv.writer(output)\n",
    "            csv_file.writerows(data)"
   ]
  },
  {
   "cell_type": "code",
   "execution_count": 3,
   "metadata": {},
   "outputs": [],
   "source": [
    "input_path = '../Data/epa_air_quality.pickle'\n",
    "output_path = 'epa_air_quality.csv'\n",
    "convert_pickle_to_csv(input_path, output_path)"
   ]
  },
  {
   "cell_type": "code",
   "execution_count": 4,
   "metadata": {},
   "outputs": [],
   "source": [
    "def filter_csv_and_save(input_path, output_path, index):\n",
    "    \"\"\"\n",
    "    Load the csv file in input_path and filter data on index,\n",
    "    and write its unique set as a pickle file on output_path.\n",
    "    \"\"\"\n",
    "    with open(input_path, 'r') as input:\n",
    "        data = csv.reader(input)\n",
    "        unique_set = set()\n",
    "        for row in data:\n",
    "            unique_set.add(row[index])\n",
    "        with open(output_path, 'wb') as output:\n",
    "            pickle.dump(unique_set, output)"
   ]
  },
  {
   "cell_type": "code",
   "execution_count": 5,
   "metadata": {},
   "outputs": [],
   "source": [
    "input_path = 'epa_air_quality.csv' \n",
    "output_path = 'epa_stations.pickle'\n",
    "index = 3\n",
    "filter_csv_and_save(input_path, output_path, index)"
   ]
  },
  {
   "cell_type": "markdown",
   "metadata": {},
   "source": [
    "Final Check!"
   ]
  },
  {
   "cell_type": "code",
   "execution_count": 6,
   "metadata": {},
   "outputs": [
    {
     "name": "stdout",
     "output_type": "stream",
     "text": [
      "{'60650003', '60370016', '60333010', '60111002', '60670010', '60290232', '60832004', '60830011', '60270022', '60970002', '60670002', '60652005', '60832011', '60670284', '60990006', '60792006', '60890007', '60592022', '60270004', '60690002', '60610006', '60590007', '60190011', '60659001', '60090001', '60271023', '60270030', '60731022', '60799001', '60290018', '60254003', '60271001', '60792004', '60970001', '60270026', '61010003', '60170011', '60270002', '60650500', '60250005', '61131003', '60658001', '60831008', '60290017', '60711004', '60472510', '60890004', '60831025', '60651999', '60190007', '60210003', '60231004', '60656001', '60658005', '60510011', '60310004', '60270023', '60792007', '60270028', '60371103', '60772010', '60973002', '60310500', '60450010', '60270025', '60798002', '61112002', '60710001', '60510005', '60712002', '60333002', '60710005', '60392010', '60670006', '61132001', '60711234', '60290014', '61030007', '60431001', '61113001', '60070008', '60379033', '60652002', '60731014', '60254004', '60710306', '60794002', '60530008', '60655001', '60251003', '60271003', '60714001', '60370002', '60510001', '60311004', '60374006', '60190500', '60290010', '60773005', '60290011', '61072002', '60790005', '60990005', '60374004', '60271018', '60650012', '60376012', '60195001', '60719004', '60270029', '60730001', '60333011', '60271028', '60250007', '60375005', '60890008', '60771002', '60714003'}\n"
     ]
    }
   ],
   "source": [
    "with open(output_path, 'rb') as input:\n",
    "    data = pickle.load(input)\n",
    "    print(data)"
   ]
  },
  {
   "cell_type": "code",
   "execution_count": null,
   "metadata": {},
   "outputs": [],
   "source": []
  },
  {
   "cell_type": "code",
   "execution_count": null,
   "metadata": {},
   "outputs": [],
   "source": []
  }
 ],
 "metadata": {
  "kernelspec": {
   "display_name": "Python 3 (ipykernel)",
   "language": "python",
   "name": "python3"
  },
  "language_info": {
   "codemirror_mode": {
    "name": "ipython",
    "version": 3
   },
   "file_extension": ".py",
   "mimetype": "text/x-python",
   "name": "python",
   "nbconvert_exporter": "python",
   "pygments_lexer": "ipython3",
   "version": "3.11.3"
  }
 },
 "nbformat": 4,
 "nbformat_minor": 4
}
